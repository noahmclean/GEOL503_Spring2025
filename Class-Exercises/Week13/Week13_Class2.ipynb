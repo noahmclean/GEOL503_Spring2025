{
 "cells": [
  {
   "attachments": {
    "0906e59b-dab8-4ff6-967d-c0a1ee0015c0.png": {
     "image/png": "[encoded data removed]"
    }
   },
   "cell_type": "markdown",
   "id": "6c94ecb5-2662-4776-a9b1-6f9c93e4b240",
   "metadata": {},
   "source": [
    "# Week 13 Class 2: Exercises:\n",
    "## The k Nearest Neightbors Algorithm\n",
    "\n",
    "## Binary Classification: Example Problem Statement\n",
    "\n",
    "You have been making measurements of two different properties (let's say age and $\\epsilon$Nd) for two different groups of rocks, let's say they're rocks from volcanic group A and volcanic group B. After some field and labwork, you have measured ten samples from volcanic group A and ten more from volcanic group B.  \n",
    "\n",
    "Some colleagues bring you ten new samples from a borehole in the vicinity of volcanic groups A and B. They have measured the age and $\\epsilon$Nd of their samples, but they don't know if they come from group A or group B.  Can you help them classify their samples?\n",
    "\n",
    "In general, this problem could be re-stated for any system. The measurements could be for any property of anything of interest -- chemical composition, QFL proportions, detrital zircon MDS location, water chemistry, radar reflectance, landsat color, etc. And the groups could be anything -- two different terranes, different rock formations, different stream tributaries, different land covers, different rock types or minerals, you name it. The problem is the same each time: using some data (measurements and groups) you already have, determine which group some new measurements belong to.\n",
    "\n",
    "## The algorithm\n",
    "\n",
    "The k nearest neighbors algorithm is pretty easy to put into words. The variable $k$ is a number that you pick, for instance $k=3$. For each unknown data point, locate the $k$ closest points that have labels. Assign the unknown point to the class whose labels comprise the majority of the $k$ closest points.\n",
    "\n",
    "![Credit: Sarang Gokte, https://www.kdnuggets.com/2020/11/most-popular-distance-metrics-knn.html](attachment:0906e59b-dab8-4ff6-967d-c0a1ee0015c0.png)\n",
    "\n",
    "There are several ways to measure the distance between two points, but an easy way is with the Euclidian distance formula,\n",
    "\n",
    "$$ d = \\sqrt{(x_1 - x_2)^2 + (y_1 - y_2)^2} $$"
   ]
  },
  {
   "cell_type": "markdown",
   "id": "d226510c-139c-4bf3-9a5f-2664d2f018f1",
   "metadata": {},
   "source": [
    "## Example problem\n",
    "\n",
    "Here are the data from your measurements and from the borehole. Can you classify the ten borehole points as belonging to group A or group B?"
   ]
  },
  {
   "cell_type": "code",
   "execution_count": null,
   "id": "2202a7a4-ca37-4ee7-99f0-5415a743f3c9",
   "metadata": {},
   "outputs": [],
   "source": [
    "import numpy as np\n",
    "import matplotlib.pyplot as plt\n",
    "\n",
    "group_A = np.array([[10.5377, -4.6643],\n",
    "                        [11.8339, -5.6037],\n",
    "                        [7.7412, -4.6414],\n",
    "                        [10.8622, -4.1849],\n",
    "                        [10.3188, -4.7556],\n",
    "                        [8.6923, -4.4827],\n",
    "                        [9.5664, -4.6366],\n",
    "                        [10.3426, -5.1517],\n",
    "                        [13.5784, -4.8531],\n",
    "                        [12.7694, -5.3936]])\n",
    "\n",
    "group_B = np.array([[9.9752, -3.8637],\n",
    "                        [16.5524, -2.9226],\n",
    "                        [13.0881, -4.2141],\n",
    "                        [11.9054, -4.1135],\n",
    "                        [13.0721, -3.0068],\n",
    "                        [11.6926, -1.4674],\n",
    "                        [11.8138, -3.7697],\n",
    "                        [14.2345, -2.6286],\n",
    "                        [14.1136, -3.2256],\n",
    "                        [14.1258, -1.8826]])\n",
    "\n",
    "borehole = np.array([[9.3844, -4.2903],\n",
    "                        [10.7481, -4.8542],\n",
    "                        [9.8076, -4.9011],\n",
    "                        [10.8886, -4.2062],\n",
    "                        [9.2352, -5.4022],\n",
    "                        [9.8966, -2.3034],\n",
    "                        [9.8664, -2.1649],\n",
    "                        [12.7323, -3.2437],\n",
    "                        [11.7339, -2.7843],\n",
    "                        [11.7059, -4.1658]])\n"
   ]
  }
 ],
 "metadata": {
  "kernelspec": {
   "display_name": "Python 3 (ipykernel)",
   "language": "python",
   "name": "python3"
  },
  "language_info": {
   "codemirror_mode": {
    "name": "ipython",
    "version": 3
   },
   "file_extension": ".py",
   "mimetype": "text/x-python",
   "name": "python",
   "nbconvert_exporter": "python",
   "pygments_lexer": "ipython3",
   "version": "3.13.3"
  }
 },
 "nbformat": 4,
 "nbformat_minor": 5
}
