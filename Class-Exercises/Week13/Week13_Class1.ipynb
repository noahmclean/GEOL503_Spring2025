{
 "cells": [
  {
   "cell_type": "markdown",
   "id": "608e71f5-df44-4401-9daf-bd9c6200e6dd",
   "metadata": {},
   "source": [
    "# Week 13 Exercises: Class 1\n",
    "\n",
    "## 1. NAVDAT\n",
    "\n",
    "The (western) North American Volcanic and Intrusive Rock Database, called NAVDAT, is a repository of Mesozoic and younger igneous rock ages and compositions. For more information and a celebrity contributor list, visit [https://www.navdat.org/](https://www.navdat.org/). There is a CSV file full of data inside this week's class folder, downloaded from the excellent UCSD [\"Python for Earth Science\" course](https://github.com/ltauxe/Python-for-Earth-Science-Students/tree/master) -- check it out!\n",
    "\n",
    "For this exercise, you'll need to make some maps. I suggest using the `cartopy` package, documentation here: [https://scitools.org.uk/cartopy/docs/latest/](https://scitools.org.uk/cartopy/docs/latest/). \n",
    "\n",
    "### Assignment 1:\n",
    "\n",
    "Make a pretty map that contains a colored dot at the location of each igneous rock sample in the NAVDAT csv file.\n",
    "\n",
    "Some questions to guide your work:\n",
    "- What virtual environment is activate right now? How would you install a new package into this virtual environment? Where would you go to get instructions?\n",
    "- What's the easiest way to load that csv file of data in, and what data structure is easiest to use for this dataset?\n",
    "- Never made a map using cartopy before? Where would you go to learn how to do this?\n",
    "- Where (N-S-E-W) do you want to draw the borders of your map?\n",
    "- Do you want a background image on your map? What do you want it to show?\n",
    "- How might you make the sample locations show up well against the background you choose?"
   ]
  },
  {
   "cell_type": "code",
   "execution_count": null,
   "id": "f9fb7594-838c-4cbc-9673-e3e9f4eacaa8",
   "metadata": {},
   "outputs": [],
   "source": []
  },
  {
   "cell_type": "markdown",
   "id": "b63436c2-f3a3-47fc-83e8-b4f30024de2b",
   "metadata": {},
   "source": [
    "### Assignment 2:\n",
    "\n",
    "Color the dots by the age of the sample. Use the \"Calculated Age (Ma)\" column.  Describe any trends you see in the location of igneous activity as a function of location."
   ]
  },
  {
   "cell_type": "code",
   "execution_count": null,
   "id": "77fc25bf-870c-4947-b986-33ae68241da2",
   "metadata": {},
   "outputs": [],
   "source": []
  },
  {
   "cell_type": "markdown",
   "id": "ee87f14a-37d3-477e-b94e-1001ee39e128",
   "metadata": {},
   "source": [
    "### Assignment 3: Stretch goal\n",
    "\n",
    "Can you make an animation of volcanism through time using `cartopy`? Check out this effort for inspiration: [https://www.youtube.com/shorts/-zh2Kk9NSt4](https://www.youtube.com/shorts/-zh2Kk9NSt4)."
   ]
  },
  {
   "cell_type": "code",
   "execution_count": null,
   "id": "6600bc32-a633-47ab-bb20-546fb33c5154",
   "metadata": {},
   "outputs": [],
   "source": []
  }
 ],
 "metadata": {
  "kernelspec": {
   "display_name": "Python 3 (ipykernel)",
   "language": "python",
   "name": "python3"
  },
  "language_info": {
   "codemirror_mode": {
    "name": "ipython",
    "version": 3
   },
   "file_extension": ".py",
   "mimetype": "text/x-python",
   "name": "python",
   "nbconvert_exporter": "python",
   "pygments_lexer": "ipython3",
   "version": "3.13.3"
  }
 },
 "nbformat": 4,
 "nbformat_minor": 5
}
