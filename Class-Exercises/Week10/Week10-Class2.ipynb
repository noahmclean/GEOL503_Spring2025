{
 "cells": [
  {
   "cell_type": "markdown",
   "id": "f42d5a2d-72ec-401d-a52c-3d81087132c5",
   "metadata": {},
   "source": [
    "# Week 10, Class 2: Object Oriented Programming\n",
    "\n",
    "## Why object oriented programming?\n",
    "\n",
    "Thus far we've created variables like strings, scalars, arrays, and dataframes that contain information. We've also created new functions that work on our data to perform specific calculations. The functions were useful -- they\n",
    "1. Encapsulated our calculations. Intermediate variables we made in functions were wiped out when the function ended, returning only the value where we after.\n",
    "2. Abstracted our calculations. When we called the function, we sent in some inputs and got back some outputs. When we called the function, we could forget about the particulars of how those outputs got calculated.  This makes the code near where you call the function more readable and reusable.\n",
    "3. Helped keep us from re-writing the same code over and over for each new instance.\n",
    "\n",
    "Functions are great, but they live in a different place than the information that goes into and gets returned from them.  Object oriented programming puts the two together into one nice package, and that central idea leads to lots of other useful, associated ideas.\n",
    "\n",
    "## Today's Scope\n",
    "\n",
    "We'll employ some basic object oriented programming (OOP) in Python, but at this early stage in Python programming, you might not want to use OOP regularly. That's ok! But you will be using objects just because of the way Python is designed. In fact, we've been using OOP this whole time, and you'll need to know how to use objects even if you don't write the code that creates them.\n",
    "\n",
    "## Start with an example\n",
    "\n",
    "Here's a basic example to get us started with some anatomy and terminology. This example has been lifted from an excellent RealPython article [here](https://realpython.com/python3-object-oriented-programming/)."
   ]
  },
  {
   "cell_type": "code",
   "execution_count": null,
   "id": "fc479b86-bb99-41bf-9b9b-0b49de616a67",
   "metadata": {},
   "outputs": [],
   "source": [
    "class Dog:\n",
    "    species = \"Canis familiaris\"    \n",
    "    def __init__(self, name, age):\n",
    "        self.name = name\n",
    "        self.age = age\n",
    "\n",
    "snowflake = Dog(\"Snowflake\", 5)"
   ]
  },
  {
   "cell_type": "markdown",
   "id": "796b3f7d-3781-4a4e-9400-28cf20e76089",
   "metadata": {},
   "source": [
    "We've started with the keywork \"class\".  A **class** is like a blueprint for an object, which combines information (**attributes**) and functions that use that information (called **methods**).  The name of this class is `Dog`, which is capitalized by convention in Python, followed by a colon.\n",
    "\n",
    "The next indented line starts our blueprint. Our blueprint is for information about dogs, for instance used for record keeping at the local humane society.  All dogs will have some common attributes, like their species, and they'll have some unique attributes, like their name and age.  An **object** is created by the class, and it has all this information filled in. So if a class definition is a blueprint, the object is the house. \n",
    "\n",
    "The `species` here is an attribute. It's information that goes into the object that gets created.\n",
    "\n",
    "The next line has the `def` keyword, just like a function does. This is the type of function that gets defined inside a class, though, which is called a method.  In particular, this special type of method, titled `__init__` is called a **constructor**. The constructor method tells Python how to build a new object from the class.  It takes the parameters `self`, which just refers to the object, and two new ones, `name` and `age`. These are the arguments that are provided by the user when a new `Dog` object is created, and used to create the new, unique object.\n",
    "\n",
    "The last line of code creates a `Dog` object called `snowflake` with the `name` attribute equal to `Snowflake` and the `age` attribute equal to 5.\n",
    "\n",
    "## The dot operator\n",
    "\n",
    "We now have a new `Dog` object called `snowflake` and we can query its attributes to use in our code.  To access an attribute, use the dot operator:"
   ]
  },
  {
   "cell_type": "code",
   "execution_count": null,
   "id": "b72a5b35-f8e8-40ff-b09b-05da8ad6676a",
   "metadata": {},
   "outputs": [],
   "source": [
    "print(snowflake.species)\n",
    "print(snowflake.name)\n",
    "print(snowflake.age)"
   ]
  },
  {
   "cell_type": "markdown",
   "id": "cc150029-5ae1-4a3b-90cf-ad0dbc252b11",
   "metadata": {},
   "source": [
    "## In-class exercise together:\n",
    "\n",
    "Write a method for the `Dog` class that prints the text \"\\<name of the dog\\> says ruff ruff!\"."
   ]
  },
  {
   "cell_type": "code",
   "execution_count": null,
   "id": "f4636a61-fc48-4a44-8478-847240da4d78",
   "metadata": {},
   "outputs": [],
   "source": []
  },
  {
   "cell_type": "markdown",
   "id": "b7c6f0a7-00ec-4033-a40a-ef3b7c0d3402",
   "metadata": {},
   "source": [
    "## In-class exercise on your own:\n",
    "\n",
    "Write a new class defintion called `Car`.  Give the car attributes like `number_of_wheels`, `model`, `gas_tank_capacity`, and `miles_per_gallon`.  Then write a method called `get_range` that calculates the number of miles the car can travel on a full tank of gas."
   ]
  },
  {
   "cell_type": "code",
   "execution_count": null,
   "id": "32fa5aba-1547-45be-879d-c7190628d94c",
   "metadata": {},
   "outputs": [],
   "source": []
  },
  {
   "cell_type": "markdown",
   "id": "58a0d552-00bf-41f4-b8af-2aaf552ff5b7",
   "metadata": {},
   "source": [
    "## Objects are everywhere in Python!\n",
    "\n",
    "Now that you know some object basics, you might better understand some syntax we've been using this semester.  \n",
    "\n",
    "In Python, every variable that you create is an object. There is an integer class, a float class, a list class, a NumPy array class, etc.  Each of these classes comes with attributes and methods that we've been using this whole time to manipulate our variables.  For instance, to add two NumPy arrays, Python checkes that the `shape` attributes are compatible, then uses the special method `__add__`.\n",
    "\n",
    "## Exercise: \n",
    "\n",
    "Make an integer, list, or array and explore its attributes and methods."
   ]
  },
  {
   "cell_type": "code",
   "execution_count": null,
   "id": "b33a8d97-a275-4131-ada4-3e2295a8269c",
   "metadata": {},
   "outputs": [],
   "source": []
  },
  {
   "cell_type": "markdown",
   "id": "8d3ad7dd-6570-4dc6-b7c2-06e5b66ea00f",
   "metadata": {},
   "source": [
    "## We've been using objects and methods explicity as well\n",
    "\n",
    "Object oriented programming organizes complicated pieces of code into usable components. A nice example that's more useful than the `Dog` and `Car` classes we made above are the figure and axes objects that we create and manipulate with Pyplot in MatPlotLib.\n",
    "\n",
    "## Exercise:\n",
    "\n",
    "Use MatPlotLib to create a function plot of $y = \\exp(x)$ with $x$ values between -1 and 1.  The `plt.subplots()` function makes the axes and figure objects. What are some attributes and methods of these objects, and how have you been using them to manipulate your plot?\n",
    "\n",
    "Note that the MatPlotLib documentation includes a link to the source code (it's open source!) at the top of each page.  E.g., here's the `subplots()` function:\n",
    "[https://matplotlib.org/stable/api/_as_gen/matplotlib.pyplot.subplots.html#matplotlib.pyplot.subplots](https://matplotlib.org/stable/api/_as_gen/matplotlib.pyplot.subplots.html#matplotlib.pyplot.subplots)\n",
    "that returns Axes objects [https://matplotlib.org/stable/api/_as_gen/matplotlib.axes.Axes.html#matplotlib.axes.Axes](https://matplotlib.org/stable/api/_as_gen/matplotlib.axes.Axes.html#matplotlib.axes.Axes)\n"
   ]
  },
  {
   "cell_type": "code",
   "execution_count": null,
   "id": "3d389f23-eb4c-4944-972d-b7a17bb3f6ac",
   "metadata": {},
   "outputs": [],
   "source": []
  }
 ],
 "metadata": {
  "kernelspec": {
   "display_name": "Python 3 (ipykernel)",
   "language": "python",
   "name": "python3"
  },
  "language_info": {
   "codemirror_mode": {
    "name": "ipython",
    "version": 3
   },
   "file_extension": ".py",
   "mimetype": "text/x-python",
   "name": "python",
   "nbconvert_exporter": "python",
   "pygments_lexer": "ipython3",
   "version": "3.12.7"
  }
 },
 "nbformat": 4,
 "nbformat_minor": 5
}
