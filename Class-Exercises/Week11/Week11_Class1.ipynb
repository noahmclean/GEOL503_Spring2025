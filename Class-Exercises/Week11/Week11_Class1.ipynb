{
 "cells": [
  {
   "cell_type": "markdown",
   "id": "abfa428b-09b1-4320-a875-317017b62661",
   "metadata": {},
   "source": [
    "# Week 11 Class 1: Environments and Packages\n",
    "\n",
    "We need Python packages and environments to help us manage large projects and to help us utilize code that others have shared.\n",
    "\n",
    "## Environments\n",
    "\n",
    "Help us manage all the software the we use to run our code. This includes Python itself, as well as all the packages that we use, and all their dependencies.  This can get to be a long list, and unless you assemble everything correctly, it's likely that it all won't work together.  \n",
    "\n",
    "An environment is like a fresh space where you can have a set of software and code that all works together. You'll want to make one for each big project you start.  Changes (e.g., updates) to Python and its packages in one environment won't affect and potentially break other environments.\n",
    "\n",
    "## Conda\n",
    "\n",
    "Conda comes with the Anaconda distro and is widely used (and really useful) in science and data science, especially for Python and R.\n",
    "\n",
    "[Starting Conda from the conda docs](https://docs.conda.io/projects/conda/en/latest/user-guide/getting-started.html)\n",
    "\n",
    "We'll use conda from the command line, but there are also ways to use it inside Anaconda Navigator.\n",
    "\n",
    "Windows: use Anaconda Command Prompt or Anaconda Powershell.\n",
    "Mac: You can just use the terminal.\n",
    "\n",
    "### Conda base environment\n",
    "\n",
    "This is the default environment, but should not be used for new projects. We have been disobeying this dictum and living like animals all semester. Time to clean up our act!\n",
    "\n",
    "### Conda create a new environment\n",
    "\n",
    "In-class exersie: Follow tutorial above to create a new environment for GEOL503. Practice switching environments.\n",
    "\n",
    "Activate a new environment, or deactivate with\n",
    "`conda activate <name>` and `conda deactivate`\n",
    "\n",
    "List your conda environments with `conda info --envs`\n",
    "\n",
    "### Other environment managers\n",
    "\n",
    "Other environment managers are smaller and less complicated:\n",
    "- venv\n",
    "- virtualenv\n",
    "\n",
    "### Conda environments in VSCode\n",
    "\n",
    "If you're using VSCode as your integrated development environment, then there are some nice tools for managing environments (conda or otherwise) built in.  See [https://code.visualstudio.com/docs/python/environments](https://code.visualstudio.com/docs/python/environments).  You can select from available environments and see info about them using the \"Python: Select interpreter\" command from the Command Palette.\n",
    "\n",
    "## Packages \n",
    "\n",
    "### Installing packages with conda\n",
    "\n",
    "First, switch to the environment you want to use. Then, install new packages (that conda knows about) with `conda install`.  \n",
    "\n",
    "You can install Python with e.g.\n",
    "`conda install python=3.13`\n",
    "\n",
    "[Managing Python with conda](https://docs.conda.io/projects/conda/en/stable/user-guide/tasks/manage-python.html)\n",
    "\n",
    "[Python version status](https://devguide.python.org/versions/)\n",
    "\n",
    "### Channels, conda-forge\n",
    "\n",
    "[conda-forge documentation](https://conda-forge.org/)\n",
    "\n",
    "Add conda forge with:\n",
    "`conda config --add channels conda-forge`\n",
    "\n",
    "### pip vs. conda\n",
    "\n",
    "Conda and pip often do similar things, but they're different. \n",
    "\n",
    "pip (stands for \"pip installs packages\") is smaller and doesn't require anaconda/miniconda. It is used to install (Python only) packages that still need to be compiled. Those packages can be found on PyPI (Python package index, like CRAN for R), which hosts hundreds of thousands of packages, including most that you'd find and use for earth science.  It's easier to submit your open source package to PyPI.\n",
    "\n",
    "conda is a bigger program that also manages your environments. Conda will also install packages, but it doesn't know about as many packages (just thousands at the usual places). The packages are pre-built and tend to be easier to use -- there's less to go wrong with dependencies. Conda comes with some default channels, but the go-to channel for (data) science is conda-forge. It is more work to have your package hosted there.\n",
    "\n",
    "You can use pip from the command line just like conda, e.g.,\n",
    "\n",
    "`pip install matplotlib`\n",
    "\n",
    "### Finding packages\n",
    "\n",
    "You can often find useful Python packages with some good web search. There are some earth science compilations like \n",
    "\n",
    "[Python Resources for Earth Sciences](https://github.com/javedali99/python-resources-for-earth-sciences?tab=readme-ov-file)\n",
    "\n",
    "There are thousands of packages available -- sometimes you can see what others are using, other times you just need to do some search and read some documentation to find reputable, useful packages.\n",
    "\n",
    "### Installing packages\n",
    "\n",
    "In-class exercise witht the package `pysheds`:\n",
    "[GitHub repository](https://github.com/mdbartos/pysheds)\n",
    "\n",
    "On your own: find an install a python package that you might find useful. Make sure you can import it and use some functionality\n",
    "\n",
    "### The python syntax for using packages\n",
    "\n",
    "You can import an entire package and give it an alias:"
   ]
  },
  {
   "cell_type": "code",
   "execution_count": null,
   "id": "42602ba0-93a3-45fd-ba69-86f21bf07638",
   "metadata": {},
   "outputs": [],
   "source": [
    "import numpy as np"
   ]
  },
  {
   "cell_type": "markdown",
   "id": "c9caaeac-a475-4009-a464-afd1431e3fce",
   "metadata": {},
   "source": [
    "but there are other ways to bring in packages, modules, submodules, functions, and classes -- together or on their own.  For more, see [Python docs](https://docs.python.org/3/tutorial/modules.html).\n",
    "\n",
    "For instance, you can use `import` without an alias, but you have to type out the entire package name."
   ]
  },
  {
   "cell_type": "code",
   "execution_count": null,
   "id": "0a3a00f0-30ee-4bd1-a76c-8e29a6e1c0f9",
   "metadata": {},
   "outputs": [],
   "source": [
    "import numpy"
   ]
  },
  {
   "cell_type": "markdown",
   "id": "f09d7eca-78a1-4d9b-a74c-e15e380b75b8",
   "metadata": {},
   "source": [
    "Or you can import just one module from a larger package by being more specific. Use the dot operator here:"
   ]
  },
  {
   "cell_type": "code",
   "execution_count": null,
   "id": "de3f5c6d-ab11-45a0-bbe3-310c793b5809",
   "metadata": {},
   "outputs": [],
   "source": [
    "import matplotlib.pyplot as plt"
   ]
  },
  {
   "cell_type": "markdown",
   "id": "59bb22c2-f8d0-4db3-a5f4-8327cf243560",
   "metadata": {},
   "source": [
    "You can import specific modules, functions, or classes from a package (instead of the whole thing) using `import`...`from`\n",
    "\n",
    "For instance, to import the numpy random number generator Class in your current namespace, use "
   ]
  },
  {
   "cell_type": "code",
   "execution_count": null,
   "id": "6997af37-a3ca-4143-8bac-e6e1b248eba6",
   "metadata": {},
   "outputs": [],
   "source": [
    "# you could do this\n",
    "import numpy as np\n",
    "rng = np.random.default_rng()\n",
    "print(rng.standard_normal(10))\n",
    "\n",
    "# or if you just want default_rng, use this\n",
    "from numpy.random import default_rng\n",
    "print(default_rng().random())"
   ]
  }
 ],
 "metadata": {
  "kernelspec": {
   "display_name": "Python 3 (ipykernel)",
   "language": "python",
   "name": "python3"
  },
  "language_info": {
   "codemirror_mode": {
    "name": "ipython",
    "version": 3
   },
   "file_extension": ".py",
   "mimetype": "text/x-python",
   "name": "python",
   "nbconvert_exporter": "python",
   "pygments_lexer": "ipython3",
   "version": "3.10.16"
  }
 },
 "nbformat": 4,
 "nbformat_minor": 5
}
