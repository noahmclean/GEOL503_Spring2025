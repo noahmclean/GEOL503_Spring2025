{
 "cells": [
  {
   "cell_type": "code",
   "execution_count": null,
   "id": "9c20c157-ccaa-4c7b-b424-b1618bba4eae",
   "metadata": {},
   "outputs": [],
   "source": [
    "# Read elevation raster\n",
    "# ----------------------------\n",
    "from pysheds.grid import Grid\n",
    "\n",
    "grid = Grid.from_raster('elevation.tiff')\n",
    "dem = grid.read_raster('elevation.tiff')"
   ]
  },
  {
   "cell_type": "code",
   "execution_count": null,
   "id": "369499e5-7ec8-4d9f-bf92-19950580705a",
   "metadata": {},
   "outputs": [],
   "source": [
    "import numpy as np\n",
    "import matplotlib.pyplot as plt\n",
    "from matplotlib import colors\n",
    "import seaborn as sns\n",
    "\n",
    "fig, ax = plt.subplots(figsize=(8,6))\n",
    "fig.patch.set_alpha(0)\n",
    "\n",
    "plt.imshow(dem, extent=grid.extent, cmap='terrain', zorder=1)\n",
    "plt.colorbar(label='Elevation (m)')\n",
    "plt.grid(zorder=0)\n",
    "plt.title('Digital elevation map', size=14)\n",
    "plt.xlabel('Longitude')\n",
    "plt.ylabel('Latitude')\n",
    "plt.tight_layout()"
   ]
  },
  {
   "cell_type": "code",
   "execution_count": null,
   "id": "c1d5fe1e-44d6-4ebf-99dd-9ae4f1052e92",
   "metadata": {},
   "outputs": [],
   "source": [
    "# Condition DEM\n",
    "# ----------------------\n",
    "# Fill pits in DEM\n",
    "pit_filled_dem = grid.fill_pits(dem)\n",
    "\n",
    "# Fill depressions in DEM\n",
    "flooded_dem = grid.fill_depressions(pit_filled_dem)\n",
    "    \n",
    "# Resolve flats in DEM\n",
    "inflated_dem = grid.resolve_flats(flooded_dem)"
   ]
  },
  {
   "cell_type": "code",
   "execution_count": null,
   "id": "16e7f1e3-d81c-469b-b6b8-412dbdce63b0",
   "metadata": {},
   "outputs": [],
   "source": [
    "# Determine D8 flow directions from DEM\n",
    "# ----------------------\n",
    "# Specify directional mapping\n",
    "dirmap = (64, 128, 1, 2, 4, 8, 16, 32)\n",
    "    \n",
    "# Compute flow directions\n",
    "# -------------------------------------\n",
    "fdir = grid.flowdir(inflated_dem, dirmap=dirmap)"
   ]
  },
  {
   "cell_type": "code",
   "execution_count": null,
   "id": "094e4386-cc79-4a8c-b16b-ce50cc943ec6",
   "metadata": {},
   "outputs": [],
   "source": [
    "fig = plt.figure(figsize=(8,6))\n",
    "fig.patch.set_alpha(0)\n",
    "\n",
    "plt.imshow(fdir, extent=grid.extent, cmap='viridis', zorder=2)\n",
    "boundaries = ([0] + sorted(list(dirmap)))\n",
    "plt.colorbar(boundaries= boundaries,\n",
    "             values=sorted(dirmap))\n",
    "plt.xlabel('Longitude')\n",
    "plt.ylabel('Latitude')\n",
    "plt.title('Flow direction grid', size=14)\n",
    "plt.grid(zorder=-1)\n",
    "plt.tight_layout()"
   ]
  },
  {
   "cell_type": "code",
   "execution_count": null,
   "id": "2200baff-fd19-46ed-8e79-9109ab9d34be",
   "metadata": {},
   "outputs": [],
   "source": [
    "# Calculate flow accumulation\n",
    "# --------------------------\n",
    "acc = grid.accumulation(fdir, dirmap=dirmap)"
   ]
  },
  {
   "cell_type": "code",
   "execution_count": null,
   "id": "95b6ae4a-01a8-4ca4-8e3e-299a455a3e9e",
   "metadata": {},
   "outputs": [],
   "source": [
    "fig, ax = plt.subplots(figsize=(8,6))\n",
    "fig.patch.set_alpha(0)\n",
    "plt.grid('on', zorder=0)\n",
    "im = ax.imshow(acc, extent=grid.extent, zorder=2,\n",
    "               cmap='cubehelix',\n",
    "               norm=colors.LogNorm(1, acc.max()),\n",
    "               interpolation='bilinear')\n",
    "plt.colorbar(im, ax=ax, label='Upstream Cells')\n",
    "plt.title('Flow Accumulation', size=14)\n",
    "plt.xlabel('Longitude')\n",
    "plt.ylabel('Latitude')\n",
    "plt.tight_layout()"
   ]
  },
  {
   "cell_type": "code",
   "execution_count": null,
   "id": "dded498f-a232-433b-b52c-1ff73c14c4d8",
   "metadata": {},
   "outputs": [],
   "source": [
    "# Delineate a catchment\n",
    "# ---------------------\n",
    "# Specify pour point\n",
    "x, y = -97.294, 32.737\n",
    "\n",
    "# Snap pour point to high accumulation cell\n",
    "x_snap, y_snap = grid.snap_to_mask(acc > 1000, (x, y))\n",
    "\n",
    "# Delineate the catchment\n",
    "catch = grid.catchment(x=x_snap, y=y_snap, fdir=fdir, dirmap=dirmap, \n",
    "                       xytype='coordinate')\n",
    "\n",
    "# Crop and plot the catchment\n",
    "# ---------------------------\n",
    "# Clip the bounding box to the catchment\n",
    "grid.clip_to(catch)\n",
    "clipped_catch = grid.view(catch)"
   ]
  },
  {
   "cell_type": "code",
   "execution_count": null,
   "id": "190480c4-9aac-461c-a6f3-76e9f53e40f7",
   "metadata": {},
   "outputs": [],
   "source": [
    "# Plot the catchment\n",
    "fig, ax = plt.subplots(figsize=(8,6))\n",
    "fig.patch.set_alpha(0)\n",
    "\n",
    "plt.grid('on', zorder=0)\n",
    "im = ax.imshow(np.where(clipped_catch, clipped_catch, np.nan), extent=grid.extent,\n",
    "               zorder=1, cmap='Greys_r')\n",
    "plt.xlabel('Longitude')\n",
    "plt.ylabel('Latitude')\n",
    "plt.title('Delineated Catchment', size=14)"
   ]
  },
  {
   "cell_type": "code",
   "execution_count": null,
   "id": "fd55e4db-188f-44a5-8b44-342a8bab242c",
   "metadata": {},
   "outputs": [],
   "source": [
    "# Extract river network\n",
    "# ---------------------\n",
    "branches = grid.extract_river_network(fdir, acc > 50, dirmap=dirmap)"
   ]
  },
  {
   "cell_type": "code",
   "execution_count": null,
   "id": "0bf092e9-27cd-406a-8cf9-064f2284009c",
   "metadata": {},
   "outputs": [],
   "source": [
    "sns.set_palette('husl')\n",
    "fig, ax = plt.subplots(figsize=(8.5,6.5))\n",
    "\n",
    "plt.xlim(grid.bbox[0], grid.bbox[2])\n",
    "plt.ylim(grid.bbox[1], grid.bbox[3])\n",
    "ax.set_aspect('equal')\n",
    "\n",
    "for branch in branches['features']:\n",
    "    line = np.asarray(branch['geometry']['coordinates'])\n",
    "    plt.plot(line[:, 0], line[:, 1])\n",
    "    \n",
    "_ = plt.title('D8 channels', size=14)"
   ]
  },
  {
   "cell_type": "code",
   "execution_count": null,
   "id": "9eba4122-4816-41e4-8616-29c9179c3426",
   "metadata": {},
   "outputs": [],
   "source": [
    "# Calculate distance to outlet from each cell\n",
    "# -------------------------------------------\n",
    "dist = grid.distance_to_outlet(x=x_snap, y=y_snap, fdir=fdir, dirmap=dirmap,\n",
    "                               xytype='coordinate')"
   ]
  },
  {
   "cell_type": "code",
   "execution_count": null,
   "id": "9d58aced-6dad-4be5-986f-f90809695b3f",
   "metadata": {},
   "outputs": [],
   "source": [
    "fig, ax = plt.subplots(figsize=(8,6))\n",
    "fig.patch.set_alpha(0)\n",
    "plt.grid('on', zorder=0)\n",
    "im = ax.imshow(dist, extent=grid.extent, zorder=2,\n",
    "               cmap='cubehelix_r')\n",
    "plt.colorbar(im, ax=ax, label='Distance to outlet (cells)')\n",
    "plt.xlabel('Longitude')\n",
    "plt.ylabel('Latitude')\n",
    "plt.title('Flow Distance', size=14)"
   ]
  },
  {
   "cell_type": "code",
   "execution_count": null,
   "id": "c96a8036-4ac5-46eb-8f8a-00e7762c45d0",
   "metadata": {},
   "outputs": [],
   "source": []
  }
 ],
 "metadata": {
  "kernelspec": {
   "display_name": "Python 3 (ipykernel)",
   "language": "python",
   "name": "python3"
  },
  "language_info": {
   "codemirror_mode": {
    "name": "ipython",
    "version": 3
   },
   "file_extension": ".py",
   "mimetype": "text/x-python",
   "name": "python",
   "nbconvert_exporter": "python",
   "pygments_lexer": "ipython3",
   "version": "3.12.2"
  }
 },
 "nbformat": 4,
 "nbformat_minor": 5
}
